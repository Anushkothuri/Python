{
 "cells": [
  {
   "cell_type": "code",
   "execution_count": 4,
   "id": "fc3b522e-0092-4744-91ff-54961730b070",
   "metadata": {},
   "outputs": [
    {
     "name": "stdout",
     "output_type": "stream",
     "text": [
      "1\n",
      "2\n",
      "3\n",
      "4\n",
      "5\n",
      "6\n",
      "7\n",
      "8\n",
      "9\n",
      "10\n"
     ]
    }
   ],
   "source": [
    "#1\n",
    "#print 1 to 10 intgers.\n",
    "for i in range(1,11):\n",
    "    print(i)"
   ]
  },
  {
   "cell_type": "code",
   "execution_count": 10,
   "id": "7266bcd0-3ebd-41f7-b89a-26473fa07058",
   "metadata": {},
   "outputs": [
    {
     "name": "stdin",
     "output_type": "stream",
     "text": [
      "enter an integer :  5\n"
     ]
    },
    {
     "name": "stdout",
     "output_type": "stream",
     "text": [
      "sum of first 5 natural numbers is 15\n"
     ]
    }
   ],
   "source": [
    "#2\n",
    "#sum of first N natural numbers.\n",
    "N=int(input(\"enter an integer : \"))\n",
    "total=0\n",
    "for i in range(1,N+1):\n",
    "    total+=i\n",
    "print(\"sum of first\",N,\"natural numbers is\",total)"
   ]
  },
  {
   "cell_type": "code",
   "execution_count": 11,
   "id": "e6567c60-bdf2-48db-90d7-8bdb92cf76a3",
   "metadata": {},
   "outputs": [
    {
     "name": "stdin",
     "output_type": "stream",
     "text": [
      "enter an integer :  4\n"
     ]
    },
    {
     "name": "stdout",
     "output_type": "stream",
     "text": [
      "factorial of 4 is 24\n"
     ]
    }
   ],
   "source": [
    "#3\n",
    "#factorial of a number.\n",
    "num=int(input(\"enter an integer : \"))\n",
    "factorial=1\n",
    "for i in range(1,num+1):\n",
    "    factorial*=i\n",
    "print(\"factorial of\",num,\"is\",factorial)"
   ]
  },
  {
   "cell_type": "code",
   "execution_count": 16,
   "id": "3a1c23d4-cd24-41d3-9997-e42e4b392e54",
   "metadata": {},
   "outputs": [
    {
     "name": "stdin",
     "output_type": "stream",
     "text": [
      "enter an integer :  2\n"
     ]
    },
    {
     "name": "stdout",
     "output_type": "stream",
     "text": [
      "2 x 1 = 2\n",
      "2 x 2 = 4\n",
      "2 x 3 = 6\n",
      "2 x 4 = 8\n",
      "2 x 5 = 10\n",
      "2 x 6 = 12\n",
      "2 x 7 = 14\n",
      "2 x 8 = 16\n",
      "2 x 9 = 18\n",
      "2 x 10 = 20\n"
     ]
    }
   ],
   "source": [
    "#4\n",
    "#print a table.\n",
    "num=int(input(\"enter an integer : \"))\n",
    "end=10\n",
    "for i in range(1,end+1):\n",
    "    print(num,'x',i,'=',num*i)"
   ]
  },
  {
   "cell_type": "code",
   "execution_count": null,
   "id": "7d007c9c-61b6-4eab-9d6e-7d2cb860adab",
   "metadata": {},
   "outputs": [],
   "source": [
    "#5\n",
    "#reverse a string.\n",
    "string=input(\"enter a string: \")\n",
    "reverse_string=\"\"\n",
    "for i in string:\n",
    "    reverse_string=i+reverse_string\n",
    "print(\"reversed string is : \",reverse_string)"
   ]
  },
  {
   "cell_type": "code",
   "execution_count": 4,
   "id": "eb7f61ec-8b9b-472b-b39f-20d32de6ce3b",
   "metadata": {},
   "outputs": [
    {
     "name": "stdin",
     "output_type": "stream",
     "text": [
      "enter a string:  anush\n"
     ]
    },
    {
     "name": "stdout",
     "output_type": "stream",
     "text": [
      "vowels =  2\n"
     ]
    }
   ],
   "source": [
    "#6\n",
    "#count vowels in a string.\n",
    "string=input(\"enter a string: \")\n",
    "vowels='aeiou'\n",
    "count=0\n",
    "for char in string:\n",
    "    if char in vowels:\n",
    "        count+=1\n",
    "print(\"vowels = \",count)"
   ]
  },
  {
   "cell_type": "code",
   "execution_count": null,
   "id": "fff7b665-cf71-47f4-84dd-dd1508bb9844",
   "metadata": {},
   "outputs": [],
   "source": [
    "#7\n",
    "#"
   ]
  }
 ],
 "metadata": {
  "kernelspec": {
   "display_name": "Python 3 (ipykernel)",
   "language": "python",
   "name": "python3"
  },
  "language_info": {
   "codemirror_mode": {
    "name": "ipython",
    "version": 3
   },
   "file_extension": ".py",
   "mimetype": "text/x-python",
   "name": "python",
   "nbconvert_exporter": "python",
   "pygments_lexer": "ipython3",
   "version": "3.12.7"
  }
 },
 "nbformat": 4,
 "nbformat_minor": 5
}
